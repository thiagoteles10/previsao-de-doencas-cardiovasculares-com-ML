{
  "nbformat": 4,
  "nbformat_minor": 0,
  "metadata": {
    "colab": {
      "provenance": [],
      "authorship_tag": "ABX9TyMGiFvo2hlkCX/r3nlNA6YW",
      "include_colab_link": true
    },
    "kernelspec": {
      "name": "python3",
      "display_name": "Python 3"
    },
    "language_info": {
      "name": "python"
    }
  },
  "cells": [
    {
      "cell_type": "markdown",
      "metadata": {
        "id": "view-in-github",
        "colab_type": "text"
      },
      "source": [
        "<a href=\"https://colab.research.google.com/github/thiagoteles10/previsao-de-doencas-cardiovasculares-com-ML/blob/main/machine_learning_para_previs%C3%A3o_de_mortes_por_doen%C3%A7as_cardiovasculares_pr%C3%A1tica.ipynb\" target=\"_parent\"><img src=\"https://colab.research.google.com/assets/colab-badge.svg\" alt=\"Open In Colab\"/></a>"
      ]
    },
    {
      "cell_type": "code",
      "source": [
        "!pip install category_encoders"
      ],
      "metadata": {
        "colab": {
          "base_uri": "https://localhost:8080/"
        },
        "id": "GpcKstCKxUPM",
        "outputId": "c585ef47-3577-477f-8c36-45e3b1bde205"
      },
      "execution_count": 1,
      "outputs": [
        {
          "output_type": "stream",
          "name": "stdout",
          "text": [
            "Looking in indexes: https://pypi.org/simple, https://us-python.pkg.dev/colab-wheels/public/simple/\n",
            "Collecting category_encoders\n",
            "  Downloading category_encoders-2.6.0-py2.py3-none-any.whl (81 kB)\n",
            "\u001b[2K     \u001b[90m━━━━━━━━━━━━━━━━━━━━━━━━━━━━━━━━━━━━━━━━\u001b[0m \u001b[32m81.2/81.2 kB\u001b[0m \u001b[31m4.9 MB/s\u001b[0m eta \u001b[36m0:00:00\u001b[0m\n",
            "\u001b[?25hRequirement already satisfied: pandas>=1.0.5 in /usr/local/lib/python3.9/dist-packages (from category_encoders) (1.5.3)\n",
            "Requirement already satisfied: scipy>=1.0.0 in /usr/local/lib/python3.9/dist-packages (from category_encoders) (1.10.1)\n",
            "Requirement already satisfied: numpy>=1.14.0 in /usr/local/lib/python3.9/dist-packages (from category_encoders) (1.22.4)\n",
            "Requirement already satisfied: scikit-learn>=0.20.0 in /usr/local/lib/python3.9/dist-packages (from category_encoders) (1.2.2)\n",
            "Requirement already satisfied: patsy>=0.5.1 in /usr/local/lib/python3.9/dist-packages (from category_encoders) (0.5.3)\n",
            "Requirement already satisfied: statsmodels>=0.9.0 in /usr/local/lib/python3.9/dist-packages (from category_encoders) (0.13.5)\n",
            "Requirement already satisfied: pytz>=2020.1 in /usr/local/lib/python3.9/dist-packages (from pandas>=1.0.5->category_encoders) (2022.7.1)\n",
            "Requirement already satisfied: python-dateutil>=2.8.1 in /usr/local/lib/python3.9/dist-packages (from pandas>=1.0.5->category_encoders) (2.8.2)\n",
            "Requirement already satisfied: six in /usr/local/lib/python3.9/dist-packages (from patsy>=0.5.1->category_encoders) (1.16.0)\n",
            "Requirement already satisfied: threadpoolctl>=2.0.0 in /usr/local/lib/python3.9/dist-packages (from scikit-learn>=0.20.0->category_encoders) (3.1.0)\n",
            "Requirement already satisfied: joblib>=1.1.1 in /usr/local/lib/python3.9/dist-packages (from scikit-learn>=0.20.0->category_encoders) (1.2.0)\n",
            "Requirement already satisfied: packaging>=21.3 in /usr/local/lib/python3.9/dist-packages (from statsmodels>=0.9.0->category_encoders) (23.1)\n",
            "Installing collected packages: category_encoders\n",
            "Successfully installed category_encoders-2.6.0\n"
          ]
        }
      ]
    },
    {
      "cell_type": "markdown",
      "source": [
        "# CARREGA BIBLIOTECAS"
      ],
      "metadata": {
        "id": "kaTN-CcLxH7e"
      }
    },
    {
      "cell_type": "markdown",
      "source": [
        "# PRIMEIRO MODELO USANDO APENAS UM ALGORITMO"
      ],
      "metadata": {
        "id": "K0oMzGvitpki"
      }
    },
    {
      "cell_type": "code",
      "execution_count": 2,
      "metadata": {
        "id": "DNm2bFmnuxVC"
      },
      "outputs": [],
      "source": [
        "import pandas as pd\n",
        "import numpy as np\n",
        "import matplotlib.pyplot as plt\n",
        "import seaborn as sns\n",
        "\n",
        "from sklearn.model_selection import train_test_split\n",
        "from sklearn.compose import ColumnTransformer\n",
        "from sklearn.metrics import confusion_matrix\n",
        "import category_encoders as ce\n",
        "from sklearn.pipeline import Pipeline\n",
        "from sklearn.impute import SimpleImputer\n",
        "from sklearn.preprocessing import StandardScaler\n",
        "from sklearn.preprocessing import MinMaxScaler\n",
        "from sklearn.preprocessing import OneHotEncoder\n",
        "\n",
        "from sklearn.tree import DecisionTreeClassifier\n",
        "from sklearn.linear_model import LogisticRegression\n",
        "from xgboost import XGBClassifier\n",
        "from sklearn.ensemble import RandomForestClassifier\n",
        "\n"
      ]
    },
    {
      "cell_type": "markdown",
      "source": [
        "# CARREGA DATASET"
      ],
      "metadata": {
        "id": "eA7HE5LOyCmy"
      }
    },
    {
      "cell_type": "code",
      "source": [
        "# CARREGANDO O DATASET\n",
        "\n",
        "heart_data = pd.read_csv('heart_failure_clinical_records_dataset.csv')\n",
        "heart_data.head()"
      ],
      "metadata": {
        "colab": {
          "base_uri": "https://localhost:8080/",
          "height": 270
        },
        "id": "vD3qaczRyBi0",
        "outputId": "b8cf2a17-1c9a-4090-f889-14a16458ccb0"
      },
      "execution_count": 3,
      "outputs": [
        {
          "output_type": "execute_result",
          "data": {
            "text/plain": [
              "    age  anaemia  creatinine_phosphokinase  diabetes  ejection_fraction  \\\n",
              "0  75.0        0                       582         0                 20   \n",
              "1  55.0        0                      7861         0                 38   \n",
              "2  65.0        0                       146         0                 20   \n",
              "3  50.0        1                       111         0                 20   \n",
              "4  65.0        1                       160         1                 20   \n",
              "\n",
              "   high_blood_pressure  platelets  serum_creatinine  serum_sodium  sex  \\\n",
              "0                    1  265000.00               1.9           130    1   \n",
              "1                    0  263358.03               1.1           136    1   \n",
              "2                    0  162000.00               1.3           129    1   \n",
              "3                    0  210000.00               1.9           137    1   \n",
              "4                    0  327000.00               2.7           116    0   \n",
              "\n",
              "   smoking  time  DEATH_EVENT  \n",
              "0        0     4            1  \n",
              "1        0     6            1  \n",
              "2        1     7            1  \n",
              "3        0     7            1  \n",
              "4        0     8            1  "
            ],
            "text/html": [
              "\n",
              "  <div id=\"df-90b09a88-41fa-4d32-bd0f-0cacf72150cb\">\n",
              "    <div class=\"colab-df-container\">\n",
              "      <div>\n",
              "<style scoped>\n",
              "    .dataframe tbody tr th:only-of-type {\n",
              "        vertical-align: middle;\n",
              "    }\n",
              "\n",
              "    .dataframe tbody tr th {\n",
              "        vertical-align: top;\n",
              "    }\n",
              "\n",
              "    .dataframe thead th {\n",
              "        text-align: right;\n",
              "    }\n",
              "</style>\n",
              "<table border=\"1\" class=\"dataframe\">\n",
              "  <thead>\n",
              "    <tr style=\"text-align: right;\">\n",
              "      <th></th>\n",
              "      <th>age</th>\n",
              "      <th>anaemia</th>\n",
              "      <th>creatinine_phosphokinase</th>\n",
              "      <th>diabetes</th>\n",
              "      <th>ejection_fraction</th>\n",
              "      <th>high_blood_pressure</th>\n",
              "      <th>platelets</th>\n",
              "      <th>serum_creatinine</th>\n",
              "      <th>serum_sodium</th>\n",
              "      <th>sex</th>\n",
              "      <th>smoking</th>\n",
              "      <th>time</th>\n",
              "      <th>DEATH_EVENT</th>\n",
              "    </tr>\n",
              "  </thead>\n",
              "  <tbody>\n",
              "    <tr>\n",
              "      <th>0</th>\n",
              "      <td>75.0</td>\n",
              "      <td>0</td>\n",
              "      <td>582</td>\n",
              "      <td>0</td>\n",
              "      <td>20</td>\n",
              "      <td>1</td>\n",
              "      <td>265000.00</td>\n",
              "      <td>1.9</td>\n",
              "      <td>130</td>\n",
              "      <td>1</td>\n",
              "      <td>0</td>\n",
              "      <td>4</td>\n",
              "      <td>1</td>\n",
              "    </tr>\n",
              "    <tr>\n",
              "      <th>1</th>\n",
              "      <td>55.0</td>\n",
              "      <td>0</td>\n",
              "      <td>7861</td>\n",
              "      <td>0</td>\n",
              "      <td>38</td>\n",
              "      <td>0</td>\n",
              "      <td>263358.03</td>\n",
              "      <td>1.1</td>\n",
              "      <td>136</td>\n",
              "      <td>1</td>\n",
              "      <td>0</td>\n",
              "      <td>6</td>\n",
              "      <td>1</td>\n",
              "    </tr>\n",
              "    <tr>\n",
              "      <th>2</th>\n",
              "      <td>65.0</td>\n",
              "      <td>0</td>\n",
              "      <td>146</td>\n",
              "      <td>0</td>\n",
              "      <td>20</td>\n",
              "      <td>0</td>\n",
              "      <td>162000.00</td>\n",
              "      <td>1.3</td>\n",
              "      <td>129</td>\n",
              "      <td>1</td>\n",
              "      <td>1</td>\n",
              "      <td>7</td>\n",
              "      <td>1</td>\n",
              "    </tr>\n",
              "    <tr>\n",
              "      <th>3</th>\n",
              "      <td>50.0</td>\n",
              "      <td>1</td>\n",
              "      <td>111</td>\n",
              "      <td>0</td>\n",
              "      <td>20</td>\n",
              "      <td>0</td>\n",
              "      <td>210000.00</td>\n",
              "      <td>1.9</td>\n",
              "      <td>137</td>\n",
              "      <td>1</td>\n",
              "      <td>0</td>\n",
              "      <td>7</td>\n",
              "      <td>1</td>\n",
              "    </tr>\n",
              "    <tr>\n",
              "      <th>4</th>\n",
              "      <td>65.0</td>\n",
              "      <td>1</td>\n",
              "      <td>160</td>\n",
              "      <td>1</td>\n",
              "      <td>20</td>\n",
              "      <td>0</td>\n",
              "      <td>327000.00</td>\n",
              "      <td>2.7</td>\n",
              "      <td>116</td>\n",
              "      <td>0</td>\n",
              "      <td>0</td>\n",
              "      <td>8</td>\n",
              "      <td>1</td>\n",
              "    </tr>\n",
              "  </tbody>\n",
              "</table>\n",
              "</div>\n",
              "      <button class=\"colab-df-convert\" onclick=\"convertToInteractive('df-90b09a88-41fa-4d32-bd0f-0cacf72150cb')\"\n",
              "              title=\"Convert this dataframe to an interactive table.\"\n",
              "              style=\"display:none;\">\n",
              "        \n",
              "  <svg xmlns=\"http://www.w3.org/2000/svg\" height=\"24px\"viewBox=\"0 0 24 24\"\n",
              "       width=\"24px\">\n",
              "    <path d=\"M0 0h24v24H0V0z\" fill=\"none\"/>\n",
              "    <path d=\"M18.56 5.44l.94 2.06.94-2.06 2.06-.94-2.06-.94-.94-2.06-.94 2.06-2.06.94zm-11 1L8.5 8.5l.94-2.06 2.06-.94-2.06-.94L8.5 2.5l-.94 2.06-2.06.94zm10 10l.94 2.06.94-2.06 2.06-.94-2.06-.94-.94-2.06-.94 2.06-2.06.94z\"/><path d=\"M17.41 7.96l-1.37-1.37c-.4-.4-.92-.59-1.43-.59-.52 0-1.04.2-1.43.59L10.3 9.45l-7.72 7.72c-.78.78-.78 2.05 0 2.83L4 21.41c.39.39.9.59 1.41.59.51 0 1.02-.2 1.41-.59l7.78-7.78 2.81-2.81c.8-.78.8-2.07 0-2.86zM5.41 20L4 18.59l7.72-7.72 1.47 1.35L5.41 20z\"/>\n",
              "  </svg>\n",
              "      </button>\n",
              "      \n",
              "  <style>\n",
              "    .colab-df-container {\n",
              "      display:flex;\n",
              "      flex-wrap:wrap;\n",
              "      gap: 12px;\n",
              "    }\n",
              "\n",
              "    .colab-df-convert {\n",
              "      background-color: #E8F0FE;\n",
              "      border: none;\n",
              "      border-radius: 50%;\n",
              "      cursor: pointer;\n",
              "      display: none;\n",
              "      fill: #1967D2;\n",
              "      height: 32px;\n",
              "      padding: 0 0 0 0;\n",
              "      width: 32px;\n",
              "    }\n",
              "\n",
              "    .colab-df-convert:hover {\n",
              "      background-color: #E2EBFA;\n",
              "      box-shadow: 0px 1px 2px rgba(60, 64, 67, 0.3), 0px 1px 3px 1px rgba(60, 64, 67, 0.15);\n",
              "      fill: #174EA6;\n",
              "    }\n",
              "\n",
              "    [theme=dark] .colab-df-convert {\n",
              "      background-color: #3B4455;\n",
              "      fill: #D2E3FC;\n",
              "    }\n",
              "\n",
              "    [theme=dark] .colab-df-convert:hover {\n",
              "      background-color: #434B5C;\n",
              "      box-shadow: 0px 1px 3px 1px rgba(0, 0, 0, 0.15);\n",
              "      filter: drop-shadow(0px 1px 2px rgba(0, 0, 0, 0.3));\n",
              "      fill: #FFFFFF;\n",
              "    }\n",
              "  </style>\n",
              "\n",
              "      <script>\n",
              "        const buttonEl =\n",
              "          document.querySelector('#df-90b09a88-41fa-4d32-bd0f-0cacf72150cb button.colab-df-convert');\n",
              "        buttonEl.style.display =\n",
              "          google.colab.kernel.accessAllowed ? 'block' : 'none';\n",
              "\n",
              "        async function convertToInteractive(key) {\n",
              "          const element = document.querySelector('#df-90b09a88-41fa-4d32-bd0f-0cacf72150cb');\n",
              "          const dataTable =\n",
              "            await google.colab.kernel.invokeFunction('convertToInteractive',\n",
              "                                                     [key], {});\n",
              "          if (!dataTable) return;\n",
              "\n",
              "          const docLinkHtml = 'Like what you see? Visit the ' +\n",
              "            '<a target=\"_blank\" href=https://colab.research.google.com/notebooks/data_table.ipynb>data table notebook</a>'\n",
              "            + ' to learn more about interactive tables.';\n",
              "          element.innerHTML = '';\n",
              "          dataTable['output_type'] = 'display_data';\n",
              "          await google.colab.output.renderOutput(dataTable, element);\n",
              "          const docLink = document.createElement('div');\n",
              "          docLink.innerHTML = docLinkHtml;\n",
              "          element.appendChild(docLink);\n",
              "        }\n",
              "      </script>\n",
              "    </div>\n",
              "  </div>\n",
              "  "
            ]
          },
          "metadata": {},
          "execution_count": 3
        }
      ]
    },
    {
      "cell_type": "code",
      "source": [
        "heart_data.info()"
      ],
      "metadata": {
        "colab": {
          "base_uri": "https://localhost:8080/"
        },
        "id": "rPQ4wr6PpDjf",
        "outputId": "b2c6087a-69ba-49fa-ba96-fa0f801734ec"
      },
      "execution_count": 4,
      "outputs": [
        {
          "output_type": "stream",
          "name": "stdout",
          "text": [
            "<class 'pandas.core.frame.DataFrame'>\n",
            "RangeIndex: 299 entries, 0 to 298\n",
            "Data columns (total 13 columns):\n",
            " #   Column                    Non-Null Count  Dtype  \n",
            "---  ------                    --------------  -----  \n",
            " 0   age                       299 non-null    float64\n",
            " 1   anaemia                   299 non-null    int64  \n",
            " 2   creatinine_phosphokinase  299 non-null    int64  \n",
            " 3   diabetes                  299 non-null    int64  \n",
            " 4   ejection_fraction         299 non-null    int64  \n",
            " 5   high_blood_pressure       299 non-null    int64  \n",
            " 6   platelets                 299 non-null    float64\n",
            " 7   serum_creatinine          299 non-null    float64\n",
            " 8   serum_sodium              299 non-null    int64  \n",
            " 9   sex                       299 non-null    int64  \n",
            " 10  smoking                   299 non-null    int64  \n",
            " 11  time                      299 non-null    int64  \n",
            " 12  DEATH_EVENT               299 non-null    int64  \n",
            "dtypes: float64(3), int64(10)\n",
            "memory usage: 30.5 KB\n"
          ]
        }
      ]
    },
    {
      "cell_type": "code",
      "source": [
        "heart_data.nunique().sort_values()"
      ],
      "metadata": {
        "colab": {
          "base_uri": "https://localhost:8080/"
        },
        "id": "Y-Yce6iTpmkX",
        "outputId": "f04b0e1d-6dd7-4835-a436-5f588d37fd2f"
      },
      "execution_count": 5,
      "outputs": [
        {
          "output_type": "execute_result",
          "data": {
            "text/plain": [
              "anaemia                       2\n",
              "diabetes                      2\n",
              "high_blood_pressure           2\n",
              "sex                           2\n",
              "smoking                       2\n",
              "DEATH_EVENT                   2\n",
              "ejection_fraction            17\n",
              "serum_sodium                 27\n",
              "serum_creatinine             40\n",
              "age                          47\n",
              "time                        148\n",
              "platelets                   176\n",
              "creatinine_phosphokinase    208\n",
              "dtype: int64"
            ]
          },
          "metadata": {},
          "execution_count": 5
        }
      ]
    },
    {
      "cell_type": "markdown",
      "source": [
        "Vemos acima que temos variáveis do tipo categóricas e variáveis do tipo numéricas. As variáveis que tem como valor 2, são variáveis do tipo dummy que são classificadas como variáveis categóricas."
      ],
      "metadata": {
        "id": "Im0ccC9bVu-5"
      }
    },
    {
      "cell_type": "code",
      "source": [
        "# SEPARANDO AS FEATURES E O TARGET\n",
        "features = ['age', 'anaemia', 'creatinine_phosphokinase', 'diabetes',\n",
        "       'ejection_fraction', 'high_blood_pressure', 'platelets',\n",
        "       'serum_creatinine', 'serum_sodium', 'sex', 'smoking', 'time',]\n",
        "\n",
        "target = 'DEATH_EVENT'"
      ],
      "metadata": {
        "id": "GXjL-EOatuLU"
      },
      "execution_count": 6,
      "outputs": []
    },
    {
      "cell_type": "code",
      "source": [
        "# SEPARANDO O X E Y\n",
        "X = heart_data[features]\n",
        "y = heart_data[target]"
      ],
      "metadata": {
        "id": "JNWzmNsod2C5"
      },
      "execution_count": 7,
      "outputs": []
    },
    {
      "cell_type": "code",
      "source": [
        "# DIVIDINDO OS DADOS EM TREINO E TESTE\n",
        "X_train, X_test, y_train, y_test = train_test_split(X,y, test_size=0.33, random_state=42)"
      ],
      "metadata": {
        "id": "cRqCrOLUeEqZ"
      },
      "execution_count": 8,
      "outputs": []
    },
    {
      "cell_type": "code",
      "source": [
        "# DIVIDINDO AS VARIÁVEIS EM CATEGÓRICAS E NUMÉRICAS\n",
        "categorical_features = ['diabetes','anaemia','high_blood_pressure','sex','smoking']\n",
        "numerical_features = [\n",
        "    'age',  \n",
        "    'creatinine_phosphokinase',\n",
        "    'ejection_fraction',\n",
        "    'platelets',\n",
        "    'serum_creatinine',\n",
        "    'serum_sodium',\n",
        "    'time']"
      ],
      "metadata": {
        "id": "VXKAe7d6ex0v"
      },
      "execution_count": 9,
      "outputs": []
    },
    {
      "cell_type": "code",
      "source": [
        "# CRIANDO O MODELO DE PIPELINE\n",
        "\n",
        "categorical_pipe = Pipeline([\n",
        "    ('encoder', OneHotEncoder()),\n",
        "    \n",
        "])\n",
        "\n",
        "numerical_pipe = Pipeline([\n",
        "    ('scaler', StandardScaler()),\n",
        "    \n",
        "])\n",
        "\n",
        "transformer = ColumnTransformer(transformers=[\n",
        "      ('categorical_transformer', categorical_pipe, categorical_features),\n",
        "      ('numerical_transformers', numerical_pipe, numerical_features),     \n",
        "])\n",
        "\n",
        "      \n",
        "X_train_transformed = transformer.fit_transform(X_train,y_train)\n",
        "X_test_transformed = transformer.transform(X_test)"
      ],
      "metadata": {
        "id": "1qwxz6j6jLGX"
      },
      "execution_count": 10,
      "outputs": []
    },
    {
      "cell_type": "code",
      "source": [
        "# CRIANDO O MODELO DE REGRESSÃO COM O RANDOM FOREST\n",
        "rf = RandomForestClassifier()"
      ],
      "metadata": {
        "id": "T80H1DBUsUiC"
      },
      "execution_count": 11,
      "outputs": []
    },
    {
      "cell_type": "code",
      "source": [
        "# TREINANDO O MODELO\n",
        "rf.fit(X_train_transformed,y_train);"
      ],
      "metadata": {
        "id": "Ovws6u3rsaXL"
      },
      "execution_count": 12,
      "outputs": []
    },
    {
      "cell_type": "code",
      "source": [
        "# REALIZANDO A PREDIÇÃO\n",
        "y_pred = rf.predict(X_test_transformed)"
      ],
      "metadata": {
        "id": "iQ8V79easpM1"
      },
      "execution_count": 13,
      "outputs": []
    },
    {
      "cell_type": "code",
      "source": [
        "# modelo previsto pela arvóre de decisão\n",
        "y_pred"
      ],
      "metadata": {
        "colab": {
          "base_uri": "https://localhost:8080/"
        },
        "id": "DaPwjZy71ApQ",
        "outputId": "ccacfc5d-5f00-4669-b81c-5ee07ffa7802"
      },
      "execution_count": 14,
      "outputs": [
        {
          "output_type": "execute_result",
          "data": {
            "text/plain": [
              "array([0, 0, 0, 1, 0, 0, 0, 0, 1, 0, 0, 0, 0, 0, 0, 0, 0, 0, 0, 0, 0, 0,\n",
              "       1, 1, 1, 0, 0, 0, 0, 0, 1, 0, 1, 1, 1, 1, 0, 0, 0, 0, 0, 1, 0, 0,\n",
              "       0, 0, 0, 0, 0, 0, 0, 0, 0, 0, 0, 0, 0, 1, 0, 1, 1, 1, 0, 0, 1, 1,\n",
              "       0, 1, 0, 0, 1, 0, 0, 0, 0, 0, 0, 0, 0, 0, 0, 1, 0, 0, 0, 0, 0, 1,\n",
              "       1, 0, 0, 0, 0, 1, 1, 1, 0, 0, 0])"
            ]
          },
          "metadata": {},
          "execution_count": 14
        }
      ]
    },
    {
      "cell_type": "code",
      "source": [
        "# AQUI ESTAMOS PEGANDO A PROBABILIDADE DE UM EVENTO ACONTECER. \n",
        "rf.predict_proba(X_train_transformed)"
      ],
      "metadata": {
        "id": "jeVDg0NCzTPh"
      },
      "execution_count": null,
      "outputs": []
    },
    {
      "cell_type": "code",
      "source": [
        "# valores reais para os resultados\n",
        "y_test.values"
      ],
      "metadata": {
        "colab": {
          "base_uri": "https://localhost:8080/"
        },
        "id": "pBuFf2C31QK2",
        "outputId": "ff2c6b57-ed46-4021-a3e9-812887d7ae9e"
      },
      "execution_count": 16,
      "outputs": [
        {
          "output_type": "execute_result",
          "data": {
            "text/plain": [
              "array([0, 0, 1, 1, 0, 0, 1, 0, 1, 0, 0, 1, 1, 0, 0, 1, 0, 0, 1, 1, 0, 0,\n",
              "       0, 1, 1, 0, 0, 0, 1, 0, 1, 0, 0, 1, 1, 1, 1, 1, 0, 0, 1, 1, 0, 0,\n",
              "       0, 0, 0, 0, 0, 0, 1, 1, 1, 0, 0, 0, 0, 1, 0, 1, 1, 1, 1, 0, 1, 1,\n",
              "       0, 0, 0, 0, 1, 0, 0, 0, 0, 0, 0, 1, 0, 0, 1, 1, 0, 0, 0, 0, 1, 1,\n",
              "       1, 0, 0, 1, 0, 1, 1, 1, 0, 0, 1])"
            ]
          },
          "metadata": {},
          "execution_count": 16
        }
      ]
    },
    {
      "cell_type": "code",
      "source": [
        "# plotando uma matrix de confulsão para comparar a previsão feita pelo módelo com a saída real.\n",
        "plt.figure(figsize=(3,3));\n",
        "sns.heatmap(confusion_matrix(y_test,y_pred), annot=True);\n",
        "plt.title('matriz de confulsão');\n",
        "plt.xlabel('predict label');\n",
        "plt.ylabel('True label');"
      ],
      "metadata": {
        "colab": {
          "base_uri": "https://localhost:8080/",
          "height": 333
        },
        "id": "tCZnhminx2eD",
        "outputId": "c2ace6ee-c5db-4f2b-abec-7e96ceff9712"
      },
      "execution_count": 17,
      "outputs": [
        {
          "output_type": "display_data",
          "data": {
            "text/plain": [
              "<Figure size 300x300 with 2 Axes>"
            ],
            "image/png": "[encoded data removed]"
          },
          "metadata": {}
        }
      ]
    },
    {
      "cell_type": "markdown",
      "source": [
        "Através da matriz de confulsão nosso modelo previu corretamente que 54 pessoas não morreriam e 22 morreriam. porém, nosso modelo errou ao afirmar que 3 pessoas morreriam quando na verdade não morreram e o modelo previu que 20 pessoas não morreriam quando na verdade essas pessoas morreram. Como nosso principal objetivo é tentar prever ao máximo o número de mortes, faremos uma modificação no valor do threshold sabendo que essa modificação irá alterar os valores das outras métricas como: accuracy_score, roc_auc_score, f1_score, precision_score. O principal objetivo aqui é tentar prever o máximo do número de mortes."
      ],
      "metadata": {
        "id": "t_2-JdFycbkw"
      }
    },
    {
      "cell_type": "code",
      "source": [
        "from sklearn.metrics import accuracy_score, roc_auc_score, f1_score, precision_score, recall_score\n",
        "\n",
        "print(f'acurácia: {accuracy_score(y_test,y_pred):.2f}')\n",
        "print(f'Recall; {recall_score(y_test,y_pred):.2f}')\n",
        "print(f'Precision: {precision_score(y_test,y_pred):.2f}')\n",
        "print(f'F1-Score: {f1_score(y_test,y_pred):.2f}')\n",
        "print(f'ROC/AUC: {roc_auc_score(y_test,y_pred):.2f}')"
      ],
      "metadata": {
        "colab": {
          "base_uri": "https://localhost:8080/"
        },
        "id": "I7xe0c4W1mny",
        "outputId": "858a241f-3369-49b1-b1c7-4609b5d236da"
      },
      "execution_count": 18,
      "outputs": [
        {
          "output_type": "stream",
          "name": "stdout",
          "text": [
            "acurácia: 0.77\n",
            "Recall; 0.52\n",
            "Precision: 0.88\n",
            "F1-Score: 0.66\n",
            "ROC/AUC: 0.74\n"
          ]
        }
      ]
    },
    {
      "cell_type": "markdown",
      "source": [
        "Vemos acima que temos uma boa acurácia, porém o recall, que é o VP/VP+FN que o nosso modelo previu foi péssimo, não conseguindo prever 20 mortes que aconteceram."
      ],
      "metadata": {
        "id": "M-kdeXInJ2Bh"
      }
    },
    {
      "cell_type": "markdown",
      "source": [
        "### AGORA IREMOS FAZER UMA MUDANÇA NO THRESHOLD PARA AUMENTAR O VALOR DO RECALL. QUANTO MAIOR O RECALL, MAIOR É O NÚMERO DE MORTES QUE O MODELO PODE PREVER COM EXATIDÃO."
      ],
      "metadata": {
        "id": "rlPmWhSOwQ6I"
      }
    },
    {
      "cell_type": "code",
      "source": [
        "''' aqui estamos mudando o threshold para aumentarmos a capacidade do nosso modelo prever as mortes.\n",
        "Aqui estamos dizendo ao predict_proba que se a probabilidade de o paciente morrer for maior ou igual a 10%,\n",
        "que devemos classificar esse paciente como uma provável morte pelo algoritmo.\n",
        "Percebemos que conforme mudamos o threshold alguma métricas pioram, mas como nosso foco é no recall que \n",
        "é Nº de pessoas que morreram e nosso modelo acertou, temos um recall de 84% o que é bastante aceitável.\n",
        "'''\n",
        "y_pred_novo = (rf.predict_proba(X_test_transformed)[:, 1] >= 0.10).astype('bool')\n",
        "y_pred_novo"
      ],
      "metadata": {
        "colab": {
          "base_uri": "https://localhost:8080/"
        },
        "id": "WQY-ndWe3RWL",
        "outputId": "0af2918d-2b9f-4598-d34e-8ead3f0cf905"
      },
      "execution_count": 19,
      "outputs": [
        {
          "output_type": "execute_result",
          "data": {
            "text/plain": [
              "array([ True, False,  True,  True,  True, False,  True,  True,  True,\n",
              "        True, False,  True,  True, False,  True,  True, False,  True,\n",
              "        True,  True,  True,  True,  True,  True,  True, False,  True,\n",
              "       False,  True, False,  True, False,  True,  True,  True,  True,\n",
              "        True,  True,  True, False,  True,  True, False,  True,  True,\n",
              "       False,  True, False, False, False,  True,  True, False, False,\n",
              "        True,  True,  True,  True, False,  True,  True,  True,  True,\n",
              "       False,  True,  True, False,  True,  True, False,  True,  True,\n",
              "       False, False,  True,  True,  True,  True,  True,  True,  True,\n",
              "        True, False, False, False, False,  True,  True,  True,  True,\n",
              "        True,  True, False,  True,  True,  True, False, False,  True])"
            ]
          },
          "metadata": {},
          "execution_count": 19
        }
      ]
    },
    {
      "cell_type": "code",
      "source": [
        "# plotando uma matrix de confulsão para comparar a previsão feita pelo módelo com a saída real.\n",
        "plt.figure(figsize=(3,3));\n",
        "sns.heatmap(confusion_matrix(y_test,y_pred_novo), annot=True);\n",
        "plt.title('matriz de confulsão');\n",
        "plt.xlabel('predict label');\n",
        "plt.ylabel('True label');"
      ],
      "metadata": {
        "colab": {
          "base_uri": "https://localhost:8080/",
          "height": 333
        },
        "id": "coN0NvWX312K",
        "outputId": "c77ef504-26fc-4ed0-cff7-ba4d9809b20b"
      },
      "execution_count": 20,
      "outputs": [
        {
          "output_type": "display_data",
          "data": {
            "text/plain": [
              "<Figure size 300x300 with 2 Axes>"
            ],
            "image/png": "[encoded data removed]"
          },
          "metadata": {}
        }
      ]
    },
    {
      "cell_type": "code",
      "source": [
        "print(f'acurácia: {accuracy_score(y_test,y_pred_novo):.2f}')\n",
        "print(f'Recall; {recall_score(y_test,y_pred_novo):.2f}')\n",
        "print(f'Precision: {precision_score(y_test,y_pred_novo):.2f}')\n",
        "print(f'F1-Score: {f1_score(y_test,y_pred_novo):.2f}')\n",
        "print(f'ROC/AUC: {roc_auc_score(y_test,y_pred_novo):.2f}')"
      ],
      "metadata": {
        "colab": {
          "base_uri": "https://localhost:8080/"
        },
        "id": "EVwcEapU7IMs",
        "outputId": "064a63d4-4b04-46f1-f171-b9123517ffab"
      },
      "execution_count": 21,
      "outputs": [
        {
          "output_type": "stream",
          "name": "stdout",
          "text": [
            "acurácia: 0.71\n",
            "Recall; 0.98\n",
            "Precision: 0.59\n",
            "F1-Score: 0.74\n",
            "ROC/AUC: 0.74\n"
          ]
        }
      ]
    },
    {
      "cell_type": "markdown",
      "source": [
        "Vemos que com a alteração do valor do threshold, o modelo foi capaz de prever corretamente 41 das 42 mortes que ocorreram, fazendo com que o recall aumentasse de 0.52 para 0.98 o que tornou o modelo execelente para prever as mortes que aconteceram. Em contrapartida, o modelo errou mais prevendo que 28 pessoas iriam morrer quando na realidade o resultado real mostrou que essas pessoas não morreriam. Como o principal objetivo era aumentar a previsibilidade do número de mortes que realmente aconteceram, vemos que a alteração do threshold alcançou o objetivo, mesmo que o modelo tenha previsto que 28 pessoas iriam morrer quando na realidade não morreriam. É muito mais custoso para o modelo errar a previsão do número de mortes que realmente aconteceram do que o número de mortes que não aconteceu e ele previu que aconteceria."
      ],
      "metadata": {
        "id": "M-J2Eiu0xmd-"
      }
    },
    {
      "cell_type": "markdown",
      "source": [
        "## SEGUNDO MODELO, USANDO VÁRIOS ALGORITMOS."
      ],
      "metadata": {
        "id": "yQtWTa5QIqoS"
      }
    },
    {
      "cell_type": "code",
      "source": [
        "# Preprocessamento\n",
        "from sklearn.model_selection import train_test_split\n",
        "from sklearn.preprocessing import StandardScaler, OneHotEncoder, OrdinalEncoder, MinMaxScaler\n",
        "from sklearn.impute import SimpleImputer\n",
        "from sklearn.compose import ColumnTransformer\n",
        "from sklearn.pipeline import Pipeline\n",
        "from sklearn.model_selection import cross_val_score\n",
        "import seaborn as sns\n",
        "\n",
        "# Classification Models\n",
        "from sklearn.linear_model import LogisticRegression\n",
        "from sklearn.neighbors import KNeighborsClassifier\n",
        "from sklearn.ensemble import RandomForestClassifier\n",
        "from sklearn.tree import DecisionTreeClassifier\n",
        "from xgboost import XGBClassifier\n",
        "from sklearn import svm\n",
        "import lightgbm as lgb\n",
        "from sklearn.svm import SVC\n",
        "from sklearn.linear_model import LogisticRegression\n",
        "from sklearn.neighbors import KNeighborsClassifier\n",
        "from sklearn.ensemble import AdaBoostClassifier, GradientBoostingClassifier\n"
      ],
      "metadata": {
        "id": "NmXBHcCfGQoW"
      },
      "execution_count": 22,
      "outputs": []
    },
    {
      "cell_type": "code",
      "source": [
        "heart_data_novo_teste = pd.read_csv('heart_failure_clinical_records_dataset.csv')"
      ],
      "metadata": {
        "id": "lw8FHbv2GgQB"
      },
      "execution_count": 23,
      "outputs": []
    },
    {
      "cell_type": "code",
      "source": [
        "X = heart_data_novo_teste.drop('DEATH_EVENT', axis=1)\n",
        "y = heart_data_novo_teste['DEATH_EVENT']"
      ],
      "metadata": {
        "id": "To6engNQIMiR"
      },
      "execution_count": 24,
      "outputs": []
    },
    {
      "cell_type": "code",
      "source": [
        "X_train, X_test, y_train, y_test = train_test_split(X, y, random_state= 42)"
      ],
      "metadata": {
        "id": "TgQzV1Z4JQdK"
      },
      "execution_count": 25,
      "outputs": []
    },
    {
      "cell_type": "code",
      "source": [
        "heart_data_novo_teste.columns"
      ],
      "metadata": {
        "colab": {
          "base_uri": "https://localhost:8080/"
        },
        "id": "YsmYwIVDHB-j",
        "outputId": "1a83b27a-cc67-4f1d-e06b-537b4ed7dac4"
      },
      "execution_count": 26,
      "outputs": [
        {
          "output_type": "execute_result",
          "data": {
            "text/plain": [
              "Index(['age', 'anaemia', 'creatinine_phosphokinase', 'diabetes',\n",
              "       'ejection_fraction', 'high_blood_pressure', 'platelets',\n",
              "       'serum_creatinine', 'serum_sodium', 'sex', 'smoking', 'time',\n",
              "       'DEATH_EVENT'],\n",
              "      dtype='object')"
            ]
          },
          "metadata": {},
          "execution_count": 26
        }
      ]
    },
    {
      "cell_type": "code",
      "source": [
        "numericas  = [\n",
        "    'age',  \n",
        "    'creatinine_phosphokinase',\n",
        "    'ejection_fraction',\n",
        "    'platelets',\n",
        "    'serum_creatinine',\n",
        "    'serum_sodium',\n",
        "    'time']\n",
        "\n",
        "categoricas = ['diabetes','anaemia','high_blood_pressure','sex','smoking']"
      ],
      "metadata": {
        "id": "YrkV2ml_KXTw"
      },
      "execution_count": 27,
      "outputs": []
    },
    {
      "cell_type": "code",
      "source": [
        "# Tratamento de variaveis categoricas com one-hot encoding\n",
        "# e standard scaler nas variaveis continuas\n",
        "preprocessor = ColumnTransformer(transformers=[('OneHot', OneHotEncoder(), categoricas), \n",
        "('Scaler', StandardScaler(), numericas)])"
      ],
      "metadata": {
        "id": "kdNENBGeINkZ"
      },
      "execution_count": 28,
      "outputs": []
    },
    {
      "cell_type": "code",
      "source": [
        "classifiers = [\n",
        "                KNeighborsClassifier(3),\n",
        "                SVC(),\n",
        "                LogisticRegression(),\n",
        "                DecisionTreeClassifier(),\n",
        "                RandomForestClassifier(),\n",
        "                AdaBoostClassifier(),\n",
        "                GradientBoostingClassifier(),\n",
        "]\n",
        "\n",
        "for classifier in classifiers:\n",
        "    pipe = Pipeline(steps=[(\"preprocessor\", preprocessor), (\"classifier\", classifier)])\n",
        "    pipe.fit(X_train, y_train)\n",
        "    y_pred = pipe.predict(X_test)\n",
        "    \n",
        "    print(classifier)\n",
        "    print(\"model score: %.3f\" % pipe.score(X_test, y_test))\n",
        "    print(f'Recall: {recall_score(y_test,y_pred):.2f}')\n",
        "    print(\"################################################\")\n",
        "\n",
        "  "
      ],
      "metadata": {
        "colab": {
          "base_uri": "https://localhost:8080/"
        },
        "id": "IYszoTbbr1yO",
        "outputId": "338cf1ef-7c05-404c-c4a4-3e2a80e473e1"
      },
      "execution_count": 29,
      "outputs": [
        {
          "output_type": "stream",
          "name": "stdout",
          "text": [
            "KNeighborsClassifier(n_neighbors=3)\n",
            "model score: 0.747\n",
            "Recall: 0.42\n",
            "################################################\n",
            "SVC()\n",
            "model score: 0.720\n",
            "Recall: 0.48\n",
            "################################################\n",
            "LogisticRegression()\n",
            "model score: 0.773\n",
            "Recall: 0.55\n",
            "################################################\n",
            "DecisionTreeClassifier()\n",
            "model score: 0.653\n",
            "Recall: 0.48\n",
            "################################################\n",
            "RandomForestClassifier()\n",
            "model score: 0.760\n",
            "Recall: 0.58\n",
            "################################################\n",
            "AdaBoostClassifier()\n",
            "model score: 0.707\n",
            "Recall: 0.52\n",
            "################################################\n",
            "GradientBoostingClassifier()\n",
            "model score: 0.707\n",
            "Recall: 0.55\n",
            "################################################\n"
          ]
        }
      ]
    }
  ]
}